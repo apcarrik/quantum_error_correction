{
 "cells": [
  {
   "cell_type": "markdown",
   "id": "0fa94f97",
   "metadata": {},
   "source": [
    "# Homework 2\n",
    "## ECE 621 (Spring 2022)\n",
    "### Adam Carriker\n",
    "\n",
    "Copyright 2022, Adam Carriker. All rights reserved."
   ]
  },
  {
   "cell_type": "markdown",
   "id": "27d4d699",
   "metadata": {},
   "source": [
    "# 1"
   ]
  },
  {
   "cell_type": "markdown",
   "id": "dea2695c",
   "metadata": {},
   "source": [
    "## c)"
   ]
  },
  {
   "cell_type": "code",
   "execution_count": 32,
   "id": "fbb84dbd",
   "metadata": {},
   "outputs": [],
   "source": [
    "import numpy as np\n",
    "import cmath\n",
    "\n",
    "def check_if_array_in_list(a, l):\n",
    "    for b in l:\n",
    "        if np.array_equal(a, b): return True\n",
    "    return False\n",
    "\n",
    "def return_array_position_in_list(a, l):  \n",
    "    i=0\n",
    "    for b in l:\n",
    "        if np.array_equal(a, b): return i\n",
    "        i+=1\n",
    "    return -1\n",
    "\n",
    "def find_elements(generators):\n",
    "    I=np.array([[1,0],[0,1]], dtype=complex)\n",
    "    X=np.array([[0,1], [1,0]], dtype = complex)\n",
    "    Y=np.array([[0,-1j], [1j,0]], dtype = complex)\n",
    "    Z=np.array([[1,0], [0,-1]], dtype = complex)\n",
    "    iI=np.dot(1j,I)\n",
    "    iX=np.dot(1j,X)\n",
    "    iY=np.dot(1j,Y)\n",
    "    iZ=np.dot(1j,Z)\n",
    "\n",
    "    possible_elements = {\"I\":I, \"-I\":-I, \"X\":X, \"-X\":-X, \"Y\":Y, \"-Y\":-Y, \"Z\":Z,\\\n",
    "                         \"-Z\":-Z, \"iI\":iI, \"-iI\":-iI, \"iX\":iX, \"-iX\":-iX,\\\n",
    "                         \"iY\":iY, \"-iY\":-iY, \"iZ\":iZ, \"-iZ\":-iZ}\n",
    "    pe_keys = list(possible_elements.keys())\n",
    "    pe_values = list(possible_elements.values())\n",
    "    elements = set(generators)\n",
    "    new_elements = []\n",
    "    unknown_elements = {}\n",
    "    print(f\"Starting Elements: {elements}\")\n",
    "    \n",
    "    for i in range(0,6):\n",
    "        print(f\"\\n\\nIteration {i}\")\n",
    "        for generator in generators:\n",
    "            for element in elements:\n",
    "                new_element = np.matmul(possible_elements[generator],possible_elements[element])\n",
    "                new_element_position = return_array_position_in_list(new_element, pe_values) \n",
    "                if new_element_position == -1:\n",
    "                    new_unknown_element_index = f\"unknown_{len(list(unknown_elements.keys())) + 1}\"\n",
    "                    unknown_elements[new_unknown_element_index] = new_element\n",
    "                    possible_elements[new_unknown_element_index] = new_element\n",
    "                    pe_keys = list(possible_elements.keys())\n",
    "                    pe_values = list(possible_elements.values())\n",
    "                    new_elements.append(new_unknown_element_index)\n",
    "                else:\n",
    "                    new_elements.append(pe_keys[new_element_position])\n",
    "        elements.update(new_elements)\n",
    "        print(f\"Generators: {generators}\")\n",
    "        print(f\"Elements: {elements}\")\n",
    "        \n",
    "    return elements\n"
   ]
  },
  {
   "cell_type": "code",
   "execution_count": 33,
   "id": "901fca76",
   "metadata": {},
   "outputs": [
    {
     "name": "stdout",
     "output_type": "stream",
     "text": [
      "Starting Elements: {'X', 'Y', 'Z'}\n",
      "\n",
      "\n",
      "Iteration 0\n",
      "Generators: {'X', 'Y', 'Z'}\n",
      "Elements: {'-iZ', '-iY', 'Z', 'iZ', 'I', 'Y', 'X', '-iX', 'iX', 'iY'}\n",
      "\n",
      "\n",
      "Iteration 1\n",
      "Generators: {'X', 'Y', 'Z'}\n",
      "Elements: {'-iZ', 'iI', '-iY', 'Z', 'iZ', '-iI', 'I', 'Y', 'X', '-iX', '-Z', 'iX', '-Y', 'iY', '-X'}\n",
      "\n",
      "\n",
      "Iteration 2\n",
      "Generators: {'X', 'Y', 'Z'}\n",
      "Elements: {'-iZ', 'iI', '-iY', 'Z', 'iZ', '-iI', '-I', 'I', 'Y', 'X', '-iX', '-Z', 'iX', '-Y', 'iY', '-X'}\n",
      "\n",
      "\n",
      "Iteration 3\n",
      "Generators: {'X', 'Y', 'Z'}\n",
      "Elements: {'-iZ', 'iI', '-iY', 'Z', 'iZ', '-iI', '-I', 'I', 'Y', 'X', '-iX', '-Z', 'iX', '-Y', 'iY', '-X'}\n",
      "\n",
      "\n",
      "Iteration 4\n",
      "Generators: {'X', 'Y', 'Z'}\n",
      "Elements: {'-iZ', 'iI', '-iY', 'Z', 'iZ', '-iI', '-I', 'I', 'Y', 'X', '-iX', '-Z', 'iX', '-Y', 'iY', '-X'}\n",
      "\n",
      "\n",
      "Iteration 5\n",
      "Generators: {'X', 'Y', 'Z'}\n",
      "Elements: {'-iZ', 'iI', '-iY', 'Z', 'iZ', '-iI', '-I', 'I', 'Y', 'X', '-iX', '-Z', 'iX', '-Y', 'iY', '-X'}\n"
     ]
    }
   ],
   "source": [
    "# Find the elements generated for group G\n",
    "\n",
    "if( __name__ == \"__main__\"):    \n",
    "    generators = {\"X\",\"Y\",\"Z\"}\n",
    "    find_elements(generators)"
   ]
  },
  {
   "cell_type": "code",
   "execution_count": 34,
   "id": "56685a49",
   "metadata": {},
   "outputs": [
    {
     "name": "stdout",
     "output_type": "stream",
     "text": [
      "Starting Elements: {'X', 'Y'}\n",
      "\n",
      "\n",
      "Iteration 0\n",
      "Generators: ('X', 'Y')\n",
      "Elements: {'-iZ', 'iZ', 'I', 'Y', 'X'}\n",
      "\n",
      "\n",
      "Iteration 1\n",
      "Generators: ('X', 'Y')\n",
      "Elements: {'-iZ', 'iZ', 'I', 'Y', 'X', '-Y', '-X'}\n",
      "\n",
      "\n",
      "Iteration 2\n",
      "Generators: ('X', 'Y')\n",
      "Elements: {'-iZ', 'iZ', '-I', 'I', 'Y', 'X', '-Y', '-X'}\n",
      "\n",
      "\n",
      "Iteration 3\n",
      "Generators: ('X', 'Y')\n",
      "Elements: {'-iZ', 'iZ', '-I', 'I', 'Y', 'X', '-Y', '-X'}\n",
      "\n",
      "\n",
      "Iteration 4\n",
      "Generators: ('X', 'Y')\n",
      "Elements: {'-iZ', 'iZ', '-I', 'I', 'Y', 'X', '-Y', '-X'}\n",
      "\n",
      "\n",
      "Iteration 5\n",
      "Generators: ('X', 'Y')\n",
      "Elements: {'-iZ', 'iZ', '-I', 'I', 'Y', 'X', '-Y', '-X'}\n"
     ]
    }
   ],
   "source": [
    "# Find the elements generated for group H\n",
    "\n",
    "if( __name__ == \"__main__\"):    \n",
    "    generators = (\"X\",\"Y\")\n",
    "    find_elements(generators)"
   ]
  },
  {
   "cell_type": "code",
   "execution_count": 35,
   "id": "fffb9717",
   "metadata": {},
   "outputs": [
    {
     "name": "stdout",
     "output_type": "stream",
     "text": [
      "Starting Elements: {'X'}\n",
      "\n",
      "\n",
      "Iteration 0\n",
      "Generators: X\n",
      "Elements: {'X', 'I'}\n",
      "\n",
      "\n",
      "Iteration 1\n",
      "Generators: X\n",
      "Elements: {'X', 'I'}\n",
      "\n",
      "\n",
      "Iteration 2\n",
      "Generators: X\n",
      "Elements: {'X', 'I'}\n",
      "\n",
      "\n",
      "Iteration 3\n",
      "Generators: X\n",
      "Elements: {'X', 'I'}\n",
      "\n",
      "\n",
      "Iteration 4\n",
      "Generators: X\n",
      "Elements: {'X', 'I'}\n",
      "\n",
      "\n",
      "Iteration 5\n",
      "Generators: X\n",
      "Elements: {'X', 'I'}\n"
     ]
    }
   ],
   "source": [
    "# Find the elements generated for group K\n",
    "\n",
    "if( __name__ == \"__main__\"):    \n",
    "    generators = (\"X\")\n",
    "    find_elements(generators)"
   ]
  },
  {
   "cell_type": "code",
   "execution_count": 37,
   "id": "fe5bf030",
   "metadata": {},
   "outputs": [
    {
     "name": "stdout",
     "output_type": "stream",
     "text": [
      "Starting Elements: {'X', 'iI', 'Z'}\n",
      "\n",
      "\n",
      "Iteration 0\n",
      "Generators: ('X', 'Z', 'iI')\n",
      "Elements: {'iI', '-iY', 'Z', 'iZ', 'I', 'X', 'iX', '-I', 'iY'}\n",
      "\n",
      "\n",
      "Iteration 1\n",
      "Generators: ('X', 'Z', 'iI')\n",
      "Elements: {'iI', '-iY', 'Z', 'iZ', '-iI', 'I', 'Y', 'X', '-Z', 'iX', '-Y', '-I', 'iY', '-X'}\n",
      "\n",
      "\n",
      "Iteration 2\n",
      "Generators: ('X', 'Z', 'iI')\n",
      "Elements: {'iI', '-iZ', '-iY', 'Z', 'iZ', '-iI', 'I', 'Y', 'X', '-iX', '-Z', 'iX', '-Y', '-I', 'iY', '-X'}\n",
      "\n",
      "\n",
      "Iteration 3\n",
      "Generators: ('X', 'Z', 'iI')\n",
      "Elements: {'iI', '-iZ', '-iY', 'Z', 'iZ', '-iI', 'I', 'Y', 'X', '-iX', '-Z', 'iX', '-Y', '-I', 'iY', '-X'}\n",
      "\n",
      "\n",
      "Iteration 4\n",
      "Generators: ('X', 'Z', 'iI')\n",
      "Elements: {'iI', '-iZ', '-iY', 'Z', 'iZ', '-iI', 'I', 'Y', 'X', '-iX', '-Z', 'iX', '-Y', '-I', 'iY', '-X'}\n",
      "\n",
      "\n",
      "Iteration 5\n",
      "Generators: ('X', 'Z', 'iI')\n",
      "Elements: {'iI', '-iZ', '-iY', 'Z', 'iZ', '-iI', 'I', 'Y', 'X', '-iX', '-Z', 'iX', '-Y', '-I', 'iY', '-X'}\n"
     ]
    }
   ],
   "source": [
    "# Find the elements generated for group K\n",
    "\n",
    "if( __name__ == \"__main__\"):    \n",
    "    generators = (\"X\",\"Z\",\"iI\")\n",
    "    find_elements(generators)"
   ]
  },
  {
   "cell_type": "code",
   "execution_count": null,
   "id": "09772c9b",
   "metadata": {},
   "outputs": [],
   "source": []
  }
 ],
 "metadata": {
  "kernelspec": {
   "display_name": "Python 3 (ipykernel)",
   "language": "python",
   "name": "python3"
  },
  "language_info": {
   "codemirror_mode": {
    "name": "ipython",
    "version": 3
   },
   "file_extension": ".py",
   "mimetype": "text/x-python",
   "name": "python",
   "nbconvert_exporter": "python",
   "pygments_lexer": "ipython3",
   "version": "3.8.2"
  }
 },
 "nbformat": 4,
 "nbformat_minor": 5
}
