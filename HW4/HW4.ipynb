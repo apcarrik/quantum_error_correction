{
 "cells": [
  {
   "cell_type": "markdown",
   "id": "68a11c9b",
   "metadata": {},
   "source": [
    "# Problem 1\n",
    "General CSS codes."
   ]
  },
  {
   "cell_type": "markdown",
   "id": "49be2499",
   "metadata": {},
   "source": [
    "## a) Show that any distance 3 CSS code can correct any single qubit error and a two-qubit error composed of one Z and one X."
   ]
  },
  {
   "cell_type": "markdown",
   "id": "368d1fc4",
   "metadata": {},
   "source": [
    "CSS codes are defined by two classical codes: C1 and C2. C1 is used to correct for X errors, and is represented with the classical code's parity check matrix is used, substituting each 1 for a Z gate, and each 0 for an I gate. Similarly, C2 is used to correct for Z errors, where the classical code's parity check matrix is used by substituting each 1 for an X gate and each 0 for an I gate.\n",
    "\n",
    "Since this code is made up of two codes, each which independently correct for a single type of {X,Z} errors, and we know that the classical codes that underpin each are complete, we know that we can correct any single qubit X or Z error with these two codes simeltaneously, and by extension, any single qubit Y error (since it is a single C and Z on the same qubit).\n",
    "\n",
    "Additionally, since we know that one code is a subset of the other, we can correct any 2-qubit error that is made up of exactly one X and Z. This means the total number of errors that can be corrected are any single qubit error and one qubit error composed of one Z and one X."
   ]
  },
  {
   "cell_type": "markdown",
   "id": "1d687b03",
   "metadata": {},
   "source": [
    "## b) For any distance 2k+1 CSS code, describe the set of errors that can be corrected."
   ]
  },
  {
   "cell_type": "markdown",
   "id": "9e187829",
   "metadata": {},
   "source": [
    "Going off of the previous question's logic, any 2k+1 CSS code will be made up of two classical codes, C1 and C2, each with distance k. This means that each of these classical codes could correct k separate errors of their respective X or Z type, and therefore together they can correct k one-qubit errors of any type (X, Y, or Z). Additionally, since one code is a subset of the other, we can correct one more two-qubit error, assuming it is made up of one X gate and one Z gate."
   ]
  },
  {
   "cell_type": "markdown",
   "id": "aa3a361c",
   "metadata": {},
   "source": [
    "## c) Specific codes can correct more errors. Show the Steane [7,1,3] code can only correct the minimal number of errors. Identify the extra errors that the Shor [9,1,3] code can correct."
   ]
  },
  {
   "cell_type": "code",
   "execution_count": null,
   "id": "91a33f6e",
   "metadata": {},
   "outputs": [],
   "source": []
  },
  {
   "cell_type": "markdown",
   "id": "6759401e",
   "metadata": {},
   "source": [
    "# Problem 2\n",
    "### 16 Qubit Shor Code\n",
    "\n",
    "Consdier the 16 qubit Shor code\n",
    "\n",
    "Let's label each qubit by coordinates i,j ona grid with i and j from 0 to 3\n",
    "\n",
    "The Z stabilizers are  Zi,jZi,j+1 are for i=0 to 3 and j=0 to 2\n",
    "\n",
    "The X stabilizers are Xi,0Xi+1,0Xi,1Xi+1,1Xi,2Xi+1,2Xi,3Xi+1,3 for i=0 to 2"
   ]
  },
  {
   "cell_type": "markdown",
   "id": "cced4030",
   "metadata": {},
   "source": [
    "## a) Write down the stabilizers in the binary form."
   ]
  },
  {
   "cell_type": "markdown",
   "id": "aeb1afcd",
   "metadata": {},
   "source": [
    "Using the notation where each qubit is indexed with j as the two most signifigant bits and i as the two least signifigant bits, i.e. qubit 6 (binary: 0110) corresponds to i = 10 and j = 01."
   ]
  },
  {
   "cell_type": "code",
   "execution_count": 13,
   "id": "a59f2ede",
   "metadata": {},
   "outputs": [
    {
     "name": "stdout",
     "output_type": "stream",
     "text": [
      "Z Stabilizers:\n",
      "1000100000000000\n",
      "0100010000000000\n",
      "0010001000000000\n",
      "0001000100000000\n",
      "0000100010000000\n",
      "0000010001000000\n",
      "0000001000100000\n",
      "0000000100010000\n",
      "0000000010001000\n",
      "0000000001000100\n",
      "0000000000100010\n",
      "0000000000010001\n",
      "\n",
      "X Stabilizers:\n",
      "1100110011001100\n",
      "0110011001100110\n",
      "0011001100110011\n"
     ]
    }
   ],
   "source": [
    "z_stabilizers = []\n",
    "for j in range(0,3):\n",
    "    for i in range(0,4):\n",
    "        newline = \"\"\n",
    "        for b in range(0,16):\n",
    "            newline += \"1\" if (b == (4*j+i)) or (b == (4*(j+1)+i)) else \"0\"\n",
    "        z_stabilizers.append(newline)\n",
    "print(\"Z Stabilizers:\")\n",
    "for stab in z_stabilizers:    \n",
    "    print(stab)\n",
    "\n",
    "x_stabilizers = []\n",
    "for i in range(0,3):\n",
    "    newline = \"\"\n",
    "    for b in range(0,16):\n",
    "        newline += \"1\" if (b == i) or\\\n",
    "        (b == i+1) or (b == i+4) or\\\n",
    "        (b == i+5) or (b == i+8) or\\\n",
    "        (b == i+9) or (b == i+12) or\\\n",
    "        (b == i+13) else \"0\"\n",
    "    x_stabilizers.append(newline)\n",
    "print(\"\\nX Stabilizers:\")\n",
    "for stab in x_stabilizers:    \n",
    "    print(stab)"
   ]
  },
  {
   "cell_type": "markdown",
   "id": "19df53c5",
   "metadata": {},
   "source": [
    "## b) Identify the classical codes C1 and C2. (Find H and G. Does not need to be in standard form.)"
   ]
  },
  {
   "cell_type": "markdown",
   "id": "4edbcdec",
   "metadata": {},
   "source": [
    "Since the stabilizers are constructed using the classical partiy check matricies for C1 and C2, we can reconstruct these H and G matricies by looking at the Z and X stabilizers. \n",
    "\n",
    "The X stabilizers are made from the matrix H(C2^⊥)=G(C2)^T and the Z stabilizers are made from the H(C1) matrix."
   ]
  },
  {
   "cell_type": "code",
   "execution_count": 35,
   "id": "d8017529",
   "metadata": {},
   "outputs": [
    {
     "name": "stdout",
     "output_type": "stream",
     "text": [
      "H(C1):\n",
      "[[1 0 0 0 1 0 0 0 0 0 0 0 0 0 0 0]\n",
      " [0 1 0 0 0 1 0 0 0 0 0 0 0 0 0 0]\n",
      " [0 0 1 0 0 0 1 0 0 0 0 0 0 0 0 0]\n",
      " [0 0 0 1 0 0 0 1 0 0 0 0 0 0 0 0]\n",
      " [0 0 0 0 1 0 0 0 1 0 0 0 0 0 0 0]\n",
      " [0 0 0 0 0 1 0 0 0 1 0 0 0 0 0 0]\n",
      " [0 0 0 0 0 0 1 0 0 0 1 0 0 0 0 0]\n",
      " [0 0 0 0 0 0 0 1 0 0 0 1 0 0 0 0]\n",
      " [0 0 0 0 0 0 0 0 1 0 0 0 1 0 0 0]\n",
      " [0 0 0 0 0 0 0 0 0 1 0 0 0 1 0 0]\n",
      " [0 0 0 0 0 0 0 0 0 0 1 0 0 0 1 0]\n",
      " [0 0 0 0 0 0 0 0 0 0 0 1 0 0 0 1]]\n",
      "G(C2):\n",
      "[[1 0 0]\n",
      " [1 1 0]\n",
      " [0 1 1]\n",
      " [0 0 1]\n",
      " [1 0 0]\n",
      " [1 1 0]\n",
      " [0 1 1]\n",
      " [0 0 1]\n",
      " [1 0 0]\n",
      " [1 1 0]\n",
      " [0 1 1]\n",
      " [0 0 1]\n",
      " [1 0 0]\n",
      " [1 1 0]\n",
      " [0 1 1]\n",
      " [0 0 1]]\n"
     ]
    }
   ],
   "source": [
    "import numpy as np\n",
    "import cmath\n",
    "\n",
    "HC1 = np.array([\n",
    "    [1,0,0,0,1,0,0,0,0,0,0,0,0,0,0,0],\n",
    "    [0,1,0,0,0,1,0,0,0,0,0,0,0,0,0,0],\n",
    "    [0,0,1,0,0,0,1,0,0,0,0,0,0,0,0,0],\n",
    "    [0,0,0,1,0,0,0,1,0,0,0,0,0,0,0,0],\n",
    "    [0,0,0,0,1,0,0,0,1,0,0,0,0,0,0,0],\n",
    "    [0,0,0,0,0,1,0,0,0,1,0,0,0,0,0,0],\n",
    "    [0,0,0,0,0,0,1,0,0,0,1,0,0,0,0,0],\n",
    "    [0,0,0,0,0,0,0,1,0,0,0,1,0,0,0,0],\n",
    "    [0,0,0,0,0,0,0,0,1,0,0,0,1,0,0,0],\n",
    "    [0,0,0,0,0,0,0,0,0,1,0,0,0,1,0,0],\n",
    "    [0,0,0,0,0,0,0,0,0,0,1,0,0,0,1,0],\n",
    "    [0,0,0,0,0,0,0,0,0,0,0,1,0,0,0,1]\n",
    "])\n",
    "\n",
    "GC2 = np.array([\n",
    "    [1,0,0],\n",
    "    [1,1,0],\n",
    "    [0,1,1],\n",
    "    [0,0,1],\n",
    "    [1,0,0],\n",
    "    [1,1,0],\n",
    "    [0,1,1],\n",
    "    [0,0,1],\n",
    "    [1,0,0],\n",
    "    [1,1,0],\n",
    "    [0,1,1],\n",
    "    [0,0,1],\n",
    "    [1,0,0],\n",
    "    [1,1,0],\n",
    "    [0,1,1],\n",
    "    [0,0,1]\n",
    "])\n",
    "\n",
    "print(\"H(C1):\")\n",
    "print(HC1)\n",
    "print(\"G(C2):\")\n",
    "print(GC2)"
   ]
  },
  {
   "cell_type": "markdown",
   "id": "baca63b6",
   "metadata": {},
   "source": [
    "Now, we can turn these matricies into canonical form to easily create the missing H and G matricies. This is done for the H matrix by taking linearily independent combinations of rows, and for the G matrix by taking linearily independent combinations of columns."
   ]
  },
  {
   "cell_type": "code",
   "execution_count": 36,
   "id": "0c4af0a6",
   "metadata": {},
   "outputs": [
    {
     "name": "stdout",
     "output_type": "stream",
     "text": [
      "H(C1) in canonical form:\n",
      "[[1 0 0 0 1 0 0 0 0 0 0 0 0 0 0 0]\n",
      " [0 1 0 0 0 1 0 0 0 0 0 0 0 0 0 0]\n",
      " [0 0 1 0 0 0 1 0 0 0 0 0 0 0 0 0]\n",
      " [0 0 0 1 0 0 0 1 0 0 0 0 0 0 0 0]\n",
      " [1 0 0 0 0 0 0 0 1 0 0 0 0 0 0 0]\n",
      " [0 1 0 0 0 0 0 0 0 1 0 0 0 0 0 0]\n",
      " [0 0 1 0 0 0 0 0 0 0 1 0 0 0 0 0]\n",
      " [0 0 0 1 0 0 0 0 0 0 0 1 0 0 0 0]\n",
      " [1 0 0 0 0 0 0 0 0 0 0 0 1 0 0 0]\n",
      " [0 1 0 0 0 0 0 0 0 0 0 0 0 1 0 0]\n",
      " [0 0 1 0 0 0 0 0 0 0 0 0 0 0 1 0]\n",
      " [0 0 0 1 0 0 0 0 0 0 0 0 0 0 0 1]]\n",
      "G(C2) in canonical form:\n",
      "[[1 0 0]\n",
      " [0 1 0]\n",
      " [0 0 1]\n",
      " [1 1 1]\n",
      " [1 0 0]\n",
      " [0 1 0]\n",
      " [0 0 1]\n",
      " [1 1 1]\n",
      " [1 0 0]\n",
      " [0 1 0]\n",
      " [0 0 1]\n",
      " [1 1 1]\n",
      " [1 0 0]\n",
      " [0 1 0]\n",
      " [0 0 1]\n",
      " [1 1 1]]\n"
     ]
    }
   ],
   "source": [
    "# Put H into canonical form by taking linearly independent combinations of rows\n",
    "for i in range(11,7,-1):\n",
    "    HC1[i] = np.remainder((HC1[i]+HC1[i-4]),2)\n",
    "    HC1[i] = np.remainder((HC1[i]+HC1[i-8]),2)\n",
    "for i in range(7,3,-1):\n",
    "    HC1[i] = np.remainder((HC1[i]+HC1[i-4]),2)\n",
    "print(\"H(C1) in canonical form:\")\n",
    "print(HC1)\n",
    "\n",
    "# Put G into canonical form by taking linearly independent combinations of columns\n",
    "GC2t = np.transpose(GC2)\n",
    "GC2t[0] = np.remainder((GC2t[0]+GC2t[1]),2)\n",
    "GC2t[0] = np.remainder((GC2t[0]+GC2t[2]),2)\n",
    "GC2t[1] = np.remainder((GC2t[1]+GC2t[2]),2)\n",
    "\n",
    "print(\"G(C2) in canonical form:\")\n",
    "print(np.transpose(GC2t))\n"
   ]
  },
  {
   "cell_type": "markdown",
   "id": "677d59e6",
   "metadata": {},
   "source": [
    "From these, we can use the fact that H = [[A I_{nxn}] and G = [[I{mxm}],[A]] To create the missing matricies."
   ]
  },
  {
   "cell_type": "code",
   "execution_count": 39,
   "id": "d7a868fa",
   "metadata": {},
   "outputs": [
    {
     "name": "stdout",
     "output_type": "stream",
     "text": [
      "H(C2):\n",
      "[[1 0 0 1 0 0 0 0 0 0 0 0 0 0 0 0 0 0 0]\n",
      " [0 1 0 0 1 0 0 0 0 0 0 0 0 0 0 0 0 0 0]\n",
      " [0 0 1 0 0 1 0 0 0 0 0 0 0 0 0 0 0 0 0]\n",
      " [1 1 1 0 0 0 1 0 0 0 0 0 0 0 0 0 0 0 0]\n",
      " [1 0 0 0 0 0 0 1 0 0 0 0 0 0 0 0 0 0 0]\n",
      " [0 1 0 0 0 0 0 0 1 0 0 0 0 0 0 0 0 0 0]\n",
      " [0 0 1 0 0 0 0 0 0 1 0 0 0 0 0 0 0 0 0]\n",
      " [1 1 1 0 0 0 0 0 0 0 1 0 0 0 0 0 0 0 0]\n",
      " [1 0 0 0 0 0 0 0 0 0 0 1 0 0 0 0 0 0 0]\n",
      " [0 1 0 0 0 0 0 0 0 0 0 0 1 0 0 0 0 0 0]\n",
      " [0 0 1 0 0 0 0 0 0 0 0 0 0 1 0 0 0 0 0]\n",
      " [1 1 1 0 0 0 0 0 0 0 0 0 0 0 1 0 0 0 0]\n",
      " [1 0 0 0 0 0 0 0 0 0 0 0 0 0 0 1 0 0 0]\n",
      " [0 1 0 0 0 0 0 0 0 0 0 0 0 0 0 0 1 0 0]\n",
      " [0 0 1 0 0 0 0 0 0 0 0 0 0 0 0 0 0 1 0]\n",
      " [1 1 1 0 0 0 0 0 0 0 0 0 0 0 0 0 0 0 1]]\n",
      "G(C1):\n",
      "[[1 0 0 0]\n",
      " [0 1 0 0]\n",
      " [0 0 1 0]\n",
      " [0 0 0 1]\n",
      " [1 0 0 0]\n",
      " [0 1 0 0]\n",
      " [0 0 1 0]\n",
      " [0 0 0 1]\n",
      " [1 0 0 0]\n",
      " [0 1 0 0]\n",
      " [0 0 1 0]\n",
      " [0 0 0 1]\n",
      " [1 0 0 0]\n",
      " [0 1 0 0]\n",
      " [0 0 1 0]\n",
      " [0 0 0 1]]\n"
     ]
    }
   ],
   "source": [
    "HC2 = np.array([\n",
    "    [1, 0, 0, 1, 0, 0, 0, 0, 0, 0, 0, 0, 0, 0, 0, 0, 0, 0, 0,],\n",
    "    [0, 1, 0, 0, 1, 0, 0, 0, 0, 0, 0, 0, 0, 0, 0, 0, 0, 0, 0,],\n",
    "    [0, 0, 1, 0, 0, 1, 0, 0, 0, 0, 0, 0, 0, 0, 0, 0, 0, 0, 0,],\n",
    "    [1, 1, 1, 0, 0, 0, 1, 0, 0, 0, 0, 0, 0, 0, 0, 0, 0, 0, 0,],\n",
    "    [1, 0, 0, 0, 0, 0, 0, 1, 0, 0, 0, 0, 0, 0, 0, 0, 0, 0, 0,],\n",
    "    [0, 1, 0, 0, 0, 0, 0, 0, 1, 0, 0, 0, 0, 0, 0, 0, 0, 0, 0,],\n",
    "    [0, 0, 1, 0, 0, 0, 0, 0, 0, 1, 0, 0, 0, 0, 0, 0, 0, 0, 0,],\n",
    "    [1, 1, 1, 0, 0, 0, 0, 0, 0, 0, 1, 0, 0, 0, 0, 0, 0, 0, 0,],\n",
    "    [1, 0, 0, 0, 0, 0, 0, 0, 0, 0, 0, 1, 0, 0, 0, 0, 0, 0, 0,],\n",
    "    [0, 1, 0, 0, 0, 0, 0, 0, 0, 0, 0, 0, 1, 0, 0, 0, 0, 0, 0,],\n",
    "    [0, 0, 1, 0, 0, 0, 0, 0, 0, 0, 0, 0, 0, 1, 0, 0, 0, 0, 0,],\n",
    "    [1, 1, 1, 0, 0, 0, 0, 0, 0, 0, 0, 0, 0, 0, 1, 0, 0, 0, 0,],\n",
    "    [1, 0, 0, 0, 0, 0, 0, 0, 0, 0, 0, 0, 0, 0, 0, 1, 0, 0, 0,],\n",
    "    [0, 1, 0, 0, 0, 0, 0, 0, 0, 0, 0, 0, 0, 0, 0, 0, 1, 0, 0,],\n",
    "    [0, 0, 1, 0, 0, 0, 0, 0, 0, 0, 0, 0, 0, 0, 0, 0, 0, 1, 0,],\n",
    "    [1, 1, 1, 0, 0, 0, 0, 0, 0, 0, 0, 0, 0, 0, 0, 0, 0, 0, 1,],\n",
    "])\n",
    "\n",
    "GC1 = np.array([\n",
    "    [1, 0, 0, 0,],\n",
    "    [0, 1, 0, 0,],\n",
    "    [0, 0, 1, 0,],\n",
    "    [0, 0, 0, 1,],\n",
    "    [1, 0, 0, 0,],\n",
    "    [0, 1, 0, 0,],\n",
    "    [0, 0, 1, 0,],\n",
    "    [0, 0, 0, 1,],\n",
    "    [1, 0, 0, 0,],\n",
    "    [0, 1, 0, 0,],\n",
    "    [0, 0, 1, 0,],\n",
    "    [0, 0, 0, 1,],\n",
    "    [1, 0, 0, 0,],\n",
    "    [0, 1, 0, 0,],\n",
    "    [0, 0, 1, 0,],\n",
    "    [0, 0, 0, 1,],\n",
    "])\n",
    "\n",
    "print(\"H(C2):\")\n",
    "print(HC2)\n",
    "print(\"G(C1):\")\n",
    "print(GC1)"
   ]
  },
  {
   "cell_type": "markdown",
   "id": "d18b3562",
   "metadata": {},
   "source": [
    "## c) Show that C2 is in C1"
   ]
  },
  {
   "cell_type": "code",
   "execution_count": 55,
   "id": "1db9b4bb",
   "metadata": {},
   "outputs": [
    {
     "name": "stdout",
     "output_type": "stream",
     "text": [
      "G(C2)':\n",
      "[[1 0 0]\n",
      " [0 1 0]\n",
      " [0 0 1]\n",
      " [1 1 1]\n",
      " [1 0 0]\n",
      " [0 1 0]\n",
      " [0 0 1]\n",
      " [1 1 1]\n",
      " [1 0 0]\n",
      " [0 1 0]\n",
      " [0 0 1]\n",
      " [1 1 1]\n",
      " [1 0 0]\n",
      " [0 1 0]\n",
      " [0 0 1]\n",
      " [1 1 1]]\n"
     ]
    }
   ],
   "source": [
    "GC2prime = np.transpose(GC1)\n",
    "GC2prime[0] = np.remainder((GC2prime[0]+GC2prime[3]),2)\n",
    "GC2prime[1] = np.remainder((GC2prime[1]+GC2prime[3]),2)\n",
    "GC2prime[2] = np.remainder((GC2prime[2]+GC2prime[3]),2)\n",
    "GC2prime = np.delete(GC2prime,3,0)\n",
    "print(\"G(C2)':\")\n",
    "print(np.transpose(GC2prime))\n"
   ]
  },
  {
   "cell_type": "markdown",
   "id": "91dc1d76",
   "metadata": {},
   "source": [
    "C2 can be expressed as a linear combination of colums of C1 like so:\n",
    "\n",
    "C2 = [ C1_1+C1_4 | C1_2+C1_4 | C1_3+C1_4  ]\n",
    "\n",
    "Therefore, C2 is in C1."
   ]
  },
  {
   "cell_type": "markdown",
   "id": "32427f55",
   "metadata": {},
   "source": [
    "## d) What is the distance and number of encoded bits for C2 and C1?"
   ]
  },
  {
   "cell_type": "markdown",
   "id": "e8ce0a2b",
   "metadata": {},
   "source": [
    "The number of encoded bits is equal to the number of rows in the generator matrix. Since G(C1) is a 16x4 matrix, it encodes 4-bit messages into 16 bits. Since G(C2) is a 16x3 matrix, it encodes 3-bit messages into 16 bits.\n",
    "\n",
    "The distance of a linear code is equal to the minimum number of linearily dependent columns of H. Since we represent H in canonical form, we know that it is comprised of k columns from the A matrix, and the rest of the columns are an mxm identity matrix. This means that every column of the A matrix is linearily dependent on the identity matrix, and so the minimum number of linearily dependent columns of H must be k, and therefore the distance of the code is k. For C1, the distance = k = 4 and for C2, the distance = k = 3."
   ]
  },
  {
   "cell_type": "markdown",
   "id": "726e9f2b",
   "metadata": {},
   "source": [
    "## e) What is the disance and number of encoded qubits for the quantum code?"
   ]
  },
  {
   "cell_type": "markdown",
   "id": "cd45c31d",
   "metadata": {},
   "source": [
    "The number of encoded qubits of the quantum code is k_{C1}-k_{C2} = 4-3 = 1.\n",
    "\n",
    "The distance of a quantum code is equal to 2t+1, where t is the number of errors that can be corrected by C1 and C2. We know k for each of the codes, and we can use the relation k=t-m to find n, where m is the number of rows of the A matrix that are linearily independent. For C1, m is 4, and therefore t = k-m = 4-4 = 0. For C2, m is 3, and therefore t = k-m = 3-3 = 0, which matches the t for C1. Therfore, for the quantum code, the distance = 2*(0) + 1 = 1."
   ]
  },
  {
   "cell_type": "markdown",
   "id": "f9885150",
   "metadata": {},
   "source": [
    "## f) Find minimal weight logical operators X and Z. "
   ]
  },
  {
   "cell_type": "markdown",
   "id": "1866e4cc",
   "metadata": {},
   "source": [
    "Focusing on the logical Z gate, we can reduce the weight by changing some Z's into I's. Since we need the logical operator to still commute with all elements of the generator, we can see that if we just leave one Z in the first and fifth qubit positions like so:\n",
    "\n",
    "|Z>_L = Z_1 Z_5\n",
    "\n",
    "Then we commute with all Z stabilizers except 0000100010000000. So, to fix this issue, we add another Z gate on the 9th position:\n",
    "\n",
    "|Z>_L = Z_1 Z_5 Z_9\n",
    "\n",
    "Now we commute with all Z stabilizers except 0000000010001000. So, we can add another Z gate on the 13th position:\n",
    "\n",
    "|Z>_L = Z_1 Z_5 Z_9 Z_13\n",
    "\n",
    "And now we commute with all Z stabilizers.\n",
    "\n",
    "We can also see that this logical Z operator commutes with all X stabilizers, since only the first X stabilizer has any non-identity gates on the positions where we have Z gates in the logical Z:\n",
    "\n",
    "1000100010001000 (logical Z)\n",
    "\n",
    "1100110011001100 (1st X stabilizer)\n",
    "\n",
    "And, there are an even number of X and Z acting on one another, so we know that these commute. Therefore, the smallest weight logical Z is given by:\n",
    "\n",
    "|Z>_L = Z_1 Z_5 Z_9 Z_13"
   ]
  },
  {
   "cell_type": "markdown",
   "id": "24a77593",
   "metadata": {},
   "source": [
    "To create the smallest weight logical X, we can use the same process of creating the logical Z and the knowledge that logical X must anticommute with logical Z. We can try fillilng in the 'opposite' positions from the logical Z:\n",
    "\n",
    "|X>_L = X_2 X_3 X_4 X_6 X_7 X_8 X_10 X_11 X_12 X_14 X_15 X_16\n",
    "\n",
    "Which commutes with all Z and X stabilizers following the same steps as when we created logical Z."
   ]
  },
  {
   "cell_type": "code",
   "execution_count": null,
   "id": "0d99aaaa",
   "metadata": {},
   "outputs": [],
   "source": []
  }
 ],
 "metadata": {
  "kernelspec": {
   "display_name": "Python 3 (ipykernel)",
   "language": "python",
   "name": "python3"
  },
  "language_info": {
   "codemirror_mode": {
    "name": "ipython",
    "version": 3
   },
   "file_extension": ".py",
   "mimetype": "text/x-python",
   "name": "python",
   "nbconvert_exporter": "python",
   "pygments_lexer": "ipython3",
   "version": "3.9.7"
  }
 },
 "nbformat": 4,
 "nbformat_minor": 5
}
